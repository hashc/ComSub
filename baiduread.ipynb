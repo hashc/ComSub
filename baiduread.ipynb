{
 "cells": [
  {
   "cell_type": "code",
   "execution_count": 11,
   "metadata": {},
   "outputs": [
    {
     "name": "stdout",
     "output_type": "stream",
     "text": [
      "The autoreload extension is already loaded. To reload it, use:\n",
      "  %reload_ext autoreload\n"
     ]
    }
   ],
   "source": [
    "%load_ext autoreload\n",
    "%autoreload 2\n",
    "import pandas as pd\n",
    "import pickle\n",
    "from ECI import *\n"
   ]
  },
  {
   "cell_type": "code",
   "execution_count": 2,
   "metadata": {
    "collapsed": true
   },
   "outputs": [],
   "source": [
    "with open('databytag.txt', 'rb') as f:\n",
    "    data_by_tag0 = pickle.load(f)"
   ]
  },
  {
   "cell_type": "code",
   "execution_count": 3,
   "metadata": {},
   "outputs": [
    {
     "data": {
      "text/html": [
       "<div>\n",
       "<style scoped>\n",
       "    .dataframe tbody tr th:only-of-type {\n",
       "        vertical-align: middle;\n",
       "    }\n",
       "\n",
       "    .dataframe tbody tr th {\n",
       "        vertical-align: top;\n",
       "    }\n",
       "\n",
       "    .dataframe thead th {\n",
       "        text-align: right;\n",
       "    }\n",
       "</style>\n",
       "<table border=\"1\" class=\"dataframe\">\n",
       "  <thead>\n",
       "    <tr style=\"text-align: right;\">\n",
       "      <th></th>\n",
       "      <th>user</th>\n",
       "      <th>tag</th>\n",
       "      <th>tag_nbook</th>\n",
       "      <th>phone</th>\n",
       "    </tr>\n",
       "  </thead>\n",
       "  <tbody>\n",
       "    <tr>\n",
       "      <th>0</th>\n",
       "      <td>1660379270</td>\n",
       "      <td>原创女频</td>\n",
       "      <td>59.0</td>\n",
       "      <td>3</td>\n",
       "    </tr>\n",
       "    <tr>\n",
       "      <th>1</th>\n",
       "      <td>1944430962</td>\n",
       "      <td>原创女频</td>\n",
       "      <td>52.0</td>\n",
       "      <td>3</td>\n",
       "    </tr>\n",
       "    <tr>\n",
       "      <th>2</th>\n",
       "      <td>2448925347</td>\n",
       "      <td>原创女频</td>\n",
       "      <td>49.0</td>\n",
       "      <td>3</td>\n",
       "    </tr>\n",
       "    <tr>\n",
       "      <th>3</th>\n",
       "      <td>1175473708</td>\n",
       "      <td>原创女频</td>\n",
       "      <td>57.0</td>\n",
       "      <td>3</td>\n",
       "    </tr>\n",
       "    <tr>\n",
       "      <th>4</th>\n",
       "      <td>2303800198</td>\n",
       "      <td>原创女频</td>\n",
       "      <td>62.0</td>\n",
       "      <td>2</td>\n",
       "    </tr>\n",
       "  </tbody>\n",
       "</table>\n",
       "</div>"
      ],
      "text/plain": [
       "         user   tag  tag_nbook  phone\n",
       "0  1660379270  原创女频       59.0      3\n",
       "1  1944430962  原创女频       52.0      3\n",
       "2  2448925347  原创女频       49.0      3\n",
       "3  1175473708  原创女频       57.0      3\n",
       "4  2303800198  原创女频       62.0      2"
      ]
     },
     "execution_count": 3,
     "metadata": {},
     "output_type": "execute_result"
    }
   ],
   "source": [
    "data_by_tag = data_by_tag0.dropna()\n",
    "data_by_tag.head()"
   ]
  },
  {
   "cell_type": "code",
   "execution_count": 4,
   "metadata": {},
   "outputs": [],
   "source": [
    "userlist = list(data_by_tag['user'])\n",
    "taglist = list(data_by_tag['tag'])\n",
    "data = list(data_by_tag['tag_nbook'])"
   ]
  },
  {
   "cell_type": "code",
   "execution_count": 5,
   "metadata": {
    "collapsed": true
   },
   "outputs": [],
   "source": [
    "def get_dict(lst):\n",
    "    return dict(zip(list(set(lst)),range(len(set(lst)))))"
   ]
  },
  {
   "cell_type": "code",
   "execution_count": 6,
   "metadata": {},
   "outputs": [],
   "source": [
    "dx = get_dict(userlist)\n",
    "dy = get_dict(taglist)\n",
    "x = [dx[user] for user in userlist]\n",
    "y = [dy[tag] for tag in taglist]"
   ]
  },
  {
   "cell_type": "code",
   "execution_count": 7,
   "metadata": {},
   "outputs": [],
   "source": [
    "from scipy import sparse\n",
    "nx,ny=len(dx),len(dy)\n",
    "M = sparse.csc_matrix((data,(x,y)),shape=(nx,ny))"
   ]
  },
  {
   "cell_type": "code",
   "execution_count": 17,
   "metadata": {
    "collapsed": true
   },
   "outputs": [],
   "source": [
    "@timelogger\n",
    "def RCA_sparse(M):\n",
    "    B = M.sum(1)*M.sum(0) \n",
    "    Sum = M.sum()\n",
    "    R = sparse.lil_matrix(M*Sum/B)\n",
    "    R[R>=1]=1\n",
    "    R[R<1]=0\n",
    "    R = R.tocsc()\n",
    "    return R"
   ]
  },
  {
   "cell_type": "code",
   "execution_count": 18,
   "metadata": {},
   "outputs": [
    {
     "name": "stderr",
     "output_type": "stream",
     "text": [
      "/usr/local/lib/python3.5/dist-packages/scipy/sparse/compressed.py:287: SparseEfficiencyWarning: Comparing a sparse matrix with a scalar greater than zero using < is inefficient, try using >= instead.\n",
      "  warn(bad_scalar_msg, SparseEfficiencyWarning)\n"
     ]
    },
    {
     "name": "stdout",
     "output_type": "stream",
     "text": [
      "==Time 1.52==\n"
     ]
    },
    {
     "name": "stderr",
     "output_type": "stream",
     "text": [
      "/usr/local/lib/python3.5/dist-packages/scipy/sparse/compressed.py:287: SparseEfficiencyWarning: Comparing a sparse matrix with a scalar greater than zero using < is inefficient, try using >= instead.\n",
      "  warn(bad_scalar_msg, SparseEfficiencyWarning)\n"
     ]
    }
   ],
   "source": [
    "R = RCA_sparse(M)"
   ]
  },
  {
   "cell_type": "code",
   "execution_count": 22,
   "metadata": {},
   "outputs": [
    {
     "name": "stdout",
     "output_type": "stream",
     "text": [
      "==Time 0.19==\n"
     ]
    }
   ],
   "source": [
    "D = Get_eci_pci_sparse(R)"
   ]
  },
  {
   "cell_type": "code",
   "execution_count": 29,
   "metadata": {},
   "outputs": [
    {
     "data": {
      "text/plain": [
       "[('外文', 0.5939770247712045),\n",
       " ('经济管理', 0.5518702850851366),\n",
       " ('计算机', 0.5342391244652023),\n",
       " ('历史传记', 0.4702840018727088),\n",
       " ('科技', 0.4684287296504785),\n",
       " ('社会科学', 0.4333926062239216),\n",
       " ('成功励志', 0.42859409240065954),\n",
       " ('两性情感', 0.3853705531460898),\n",
       " ('文学艺术', 0.3240191322891341),\n",
       " ('亲子少儿', 0.32082208958506087),\n",
       " ('生活', 0.28857924732570733),\n",
       " ('期刊', 0.06278818087831857),\n",
       " ('小说', -0.15632418165751366),\n",
       " ('原创男频', -1.4300874000512351),\n",
       " ('原创女频', -3.275953485984874)]"
      ]
     },
     "execution_count": 29,
     "metadata": {},
     "output_type": "execute_result"
    }
   ],
   "source": [
    "res = [(key,D['pci'][dy[key]]) for key in dy]\n",
    "sorted(res,key=lambda  x:x[1],reverse=True)"
   ]
  },
  {
   "cell_type": "code",
   "execution_count": null,
   "metadata": {
    "collapsed": true
   },
   "outputs": [],
   "source": []
  }
 ],
 "metadata": {
  "kernelspec": {
   "display_name": "Python 3",
   "language": "python",
   "name": "python3"
  },
  "language_info": {
   "codemirror_mode": {
    "name": "ipython",
    "version": 3
   },
   "file_extension": ".py",
   "mimetype": "text/x-python",
   "name": "python",
   "nbconvert_exporter": "python",
   "pygments_lexer": "ipython3",
   "version": "3.6.5"
  }
 },
 "nbformat": 4,
 "nbformat_minor": 2
}
