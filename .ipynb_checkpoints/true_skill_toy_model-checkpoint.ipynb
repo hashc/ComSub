{
 "cells": [
  {
   "cell_type": "markdown",
   "metadata": {},
   "source": [
    "A问了Q1，A、B、C、E回答了Q1,C回答被接受\n",
    "\n",
    "\n",
    "所以'Q1'>'A','C'>'Q1','C'>'A','C'>'B','C'>'E'\n",
    "\n",
    "\n",
    "以此类推\n",
    "\n",
    "\n",
    "Question：Q1,Q2,Q3,Q4 = -1,-2,-3,-4\n",
    "\n",
    "\n",
    "User：A,B,C,D,E = 1,2,3,4,5"
   ]
  },
  {
   "cell_type": "code",
   "execution_count": 6,
   "metadata": {
    "collapsed": true
   },
   "outputs": [],
   "source": [
    "import math"
   ]
  },
  {
   "cell_type": "code",
   "execution_count": 1,
   "metadata": {
    "collapsed": true
   },
   "outputs": [],
   "source": [
    "#winner,loser\n",
    "toy_data0 = [('Q1','A'),('C','Q1'),('C','A'),('C','B'),('C','E'),\n",
    "             ('Q2','B'),('A','Q2'),('A','B'),('A','C'),('A','E'),\n",
    "             ('Q3','C'),('A','Q3'), ('A','C'),('A','E'),\n",
    "             ('Q4','D'),('E','Q4'),('E','D')]"
   ]
  },
  {
   "cell_type": "code",
   "execution_count": 2,
   "metadata": {
    "collapsed": true
   },
   "outputs": [],
   "source": [
    "toy_data = [(-1,1),(3,-1),(3,1),(3,2),(3,5),\n",
    "            (-2,2),(1,-2),(1,2),(1,3),(1,5),\n",
    "            (-3,3),(1,-3),(1,3),(1,5),\n",
    "            (-4,4),(5,-4),(5,4)]"
   ]
  },
  {
   "cell_type": "code",
   "execution_count": 3,
   "metadata": {
    "collapsed": true
   },
   "outputs": [],
   "source": [
    "# initialize\n",
    "E0 = {}\n",
    "mu = 25.0; sigma = 25.0/3; beta = sigma/2\n",
    "S0 = set([i[0] for i in toy_data]+[i[1] for i in toy_data])\n",
    "for i in S0: E0[i]=[mu,sigma]"
   ]
  },
  {
   "cell_type": "code",
   "execution_count": 4,
   "metadata": {
    "collapsed": true
   },
   "outputs": [],
   "source": [
    "# fast version of updating function\n",
    "def fastupdate(mw,sw,ml,sl,beta): # miu and sigma of winner and loser\n",
    "    sw2=math.pow(sw,2)\n",
    "    sl2=math.pow(sl,2)\n",
    "    t = mw - ml\n",
    "    c = math.sqrt(34.72222+sw2+sl2)\n",
    "    c2=math.pow(c,2)\n",
    "    tc = t/c\n",
    "    vtc = 0.79788*0.60653**math.pow(tc,2)/math.erfc(-0.70711*tc)\n",
    "    wtc = vtc*(vtc + tc)\n",
    "    mw += vtc*sw2/c\n",
    "    ml -= vtc*sl2/c\n",
    "    sw *= math.sqrt(1 - wtc*sw2/c2)\n",
    "    sl *= math.sqrt(1 - wtc*sl2/c2)\n",
    "    return mw,sw,ml,sl"
   ]
  },
  {
   "cell_type": "code",
   "execution_count": 7,
   "metadata": {},
   "outputs": [],
   "source": [
    "# update\n",
    "n=0\n",
    "for i in toy_data:\n",
    "    winner, loser = i\n",
    "    mw,sw = E0[winner]\n",
    "    ml,sl = E0[loser]\n",
    "    nmw,nsw,nml,nsl = fastupdate(mw,sw,ml,sl,beta)\n",
    "    E0[winner]=[nmw,nsw]\n",
    "    E0[loser]=[nml,nsl]"
   ]
  },
  {
   "cell_type": "code",
   "execution_count": 8,
   "metadata": {
    "collapsed": true
   },
   "outputs": [],
   "source": [
    "US0={}\n",
    "QS0={}\n",
    "for i in E0:\n",
    "    mu,sigma = E0[i]\n",
    "    if i>0:\n",
    "        US0[i]=mu-3*sigma+10\n",
    "    else:\n",
    "        QS0[-i]=mu-3*sigma+10"
   ]
  },
  {
   "cell_type": "code",
   "execution_count": 9,
   "metadata": {},
   "outputs": [
    {
     "data": {
      "text/plain": [
       "{1: 16.065269663906165,\n",
       " 2: 14.534607212024664,\n",
       " 3: 21.792181104506486,\n",
       " 4: 14.983684437833094}"
      ]
     },
     "execution_count": 9,
     "metadata": {},
     "output_type": "execute_result"
    }
   ],
   "source": [
    "QS0"
   ]
  },
  {
   "cell_type": "code",
   "execution_count": 10,
   "metadata": {},
   "outputs": [
    {
     "data": {
      "text/plain": [
       "{1: 32.6497332713768,\n",
       " 2: 9.892545931496539,\n",
       " 3: 24.375050695169023,\n",
       " 4: 9.245892338580497,\n",
       " 5: 21.23905440800258}"
      ]
     },
     "execution_count": 10,
     "metadata": {},
     "output_type": "execute_result"
    }
   ],
   "source": [
    "US0"
   ]
  },
  {
   "cell_type": "code",
   "execution_count": null,
   "metadata": {
    "collapsed": true
   },
   "outputs": [],
   "source": []
  }
 ],
 "metadata": {
  "kernelspec": {
   "display_name": "Python 3",
   "language": "python",
   "name": "python3"
  },
  "language_info": {
   "codemirror_mode": {
    "name": "ipython",
    "version": 3
   },
   "file_extension": ".py",
   "mimetype": "text/x-python",
   "name": "python",
   "nbconvert_exporter": "python",
   "pygments_lexer": "ipython3",
   "version": "3.6.2"
  },
  "toc": {
   "nav_menu": {},
   "number_sections": true,
   "sideBar": true,
   "skip_h1_title": false,
   "toc_cell": false,
   "toc_position": {},
   "toc_section_display": "block",
   "toc_window_display": false
  }
 },
 "nbformat": 4,
 "nbformat_minor": 2
}
